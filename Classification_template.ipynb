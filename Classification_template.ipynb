{
  "nbformat": 4,
  "nbformat_minor": 0,
  "metadata": {
    "colab": {
      "name": "Classification template.ipynb",
      "provenance": [],
      "collapsed_sections": [
        "-7gSS1NBA3Hz"
      ]
    },
    "kernelspec": {
      "name": "python3",
      "display_name": "Python 3"
    },
    "language_info": {
      "name": "python"
    }
  },
  "cells": [
    {
      "cell_type": "markdown",
      "source": [
        "# **Course: Data Science for Decision Support**\n",
        "**Assignment 1.2** (Submission deadline 1.06.2022, 16:00), \n",
        "\n",
        "**Author:** Firstname, Lastname: Matriculation Nr.\n",
        "\n",
        "\n",
        "---\n",
        "\n",
        "\n"
      ],
      "metadata": {
        "id": "tCjHIT11ALn1"
      }
    },
    {
      "cell_type": "markdown",
      "source": [
        "# Problem: **Calssification** (Total score 32)"
      ],
      "metadata": {
        "id": "-7gSS1NBA3Hz"
      }
    },
    {
      "cell_type": "markdown",
      "source": [
        "# **`Task 1 „Data Pre-processing“ (7 Scores)`**"
      ],
      "metadata": {
        "id": "R2y3CQGlBbDF"
      }
    },
    {
      "cell_type": "markdown",
      "source": [
        "1)\tRead the data from your individual variant into Python notebook"
      ],
      "metadata": {
        "id": "gHgKrVp0Be12"
      }
    },
    {
      "cell_type": "code",
      "source": [
        "#Write your code here \n"
      ],
      "metadata": {
        "id": "MQzN3X-qAK04"
      },
      "execution_count": null,
      "outputs": []
    },
    {
      "cell_type": "code",
      "source": [
        "#add more cell if needed to each code cell"
      ],
      "metadata": {
        "id": "97IkbkkUD6py"
      },
      "execution_count": null,
      "outputs": []
    },
    {
      "cell_type": "markdown",
      "source": [
        "2) Output the main information (number of variables, number of instances). "
      ],
      "metadata": {
        "id": "2nVs-nLPCv-J"
      }
    },
    {
      "cell_type": "code",
      "source": [
        "#Write your code here "
      ],
      "metadata": {
        "id": "arzsIeMJCScj"
      },
      "execution_count": null,
      "outputs": []
    },
    {
      "cell_type": "markdown",
      "source": [
        "*Comment the results of the previous program*"
      ],
      "metadata": {
        "id": "QNFx6Ot6CWCv"
      }
    },
    {
      "cell_type": "markdown",
      "source": [
        "3) Output some first rows of the dataset. \n"
      ],
      "metadata": {
        "id": "-ovknY38CjX7"
      }
    },
    {
      "cell_type": "code",
      "source": [
        "#Write your code here "
      ],
      "metadata": {
        "id": "dEJ2OA2dD1ei"
      },
      "execution_count": null,
      "outputs": []
    },
    {
      "cell_type": "markdown",
      "source": [
        "4) Make explanatory data analyses for each variable (mean, std, etc.)."
      ],
      "metadata": {
        "id": "3EfI5KcbDalO"
      }
    },
    {
      "cell_type": "code",
      "source": [
        "#Write your code here "
      ],
      "metadata": {
        "id": "i57tE26FChuG"
      },
      "execution_count": null,
      "outputs": []
    },
    {
      "cell_type": "markdown",
      "source": [
        "*Comment the results of the previous program* "
      ],
      "metadata": {
        "id": "0JlxnWQ4EjxH"
      }
    },
    {
      "cell_type": "markdown",
      "source": [
        "5) Look at independent and dependent variables. Divide the dataset accordingly into matrices X and Y. Output the shapes of these matrices. "
      ],
      "metadata": {
        "id": "Zy18BoORFX7_"
      }
    },
    {
      "cell_type": "code",
      "source": [
        "#Write your code here "
      ],
      "metadata": {
        "id": "vRZPwiEBFoX4"
      },
      "execution_count": null,
      "outputs": []
    },
    {
      "cell_type": "markdown",
      "source": [
        "*Comment the results of the previous program* "
      ],
      "metadata": {
        "id": "e5RLpC06FzUU"
      }
    },
    {
      "cell_type": "markdown",
      "source": [
        "6) Look at data types of the variables. Are there any categorical variable you need to encode? Execute necessary transformations. Drop some columns if necessary, when recommended in your individual variant."
      ],
      "metadata": {
        "id": "qFniOLixGC5d"
      }
    },
    {
      "cell_type": "code",
      "source": [
        "#Write your code here "
      ],
      "metadata": {
        "id": "Fyo6XPNoGO8F"
      },
      "execution_count": null,
      "outputs": []
    },
    {
      "cell_type": "markdown",
      "source": [
        "7) Are there any Nan values? Try different filling of them (mean, median)."
      ],
      "metadata": {
        "id": "8zqBOYOlGeWh"
      }
    },
    {
      "cell_type": "code",
      "source": [
        "#Write your code here "
      ],
      "metadata": {
        "id": "Ot0ZMGlWGlCv"
      },
      "execution_count": null,
      "outputs": []
    },
    {
      "cell_type": "markdown",
      "source": [
        "*Comment the results of the previous program* "
      ],
      "metadata": {
        "id": "2BSFK4EmHN5P"
      }
    },
    {
      "cell_type": "markdown",
      "source": [
        "8) Check the dependences between each of the independent variable and the target variable and among the independent variables.  Output correlation table and corresponding headmap results."
      ],
      "metadata": {
        "id": "Qs7pQxVQGvbX"
      }
    },
    {
      "cell_type": "code",
      "source": [
        "#Write your code here "
      ],
      "metadata": {
        "id": "-cxWMnZXG5Dj"
      },
      "execution_count": null,
      "outputs": []
    },
    {
      "cell_type": "markdown",
      "source": [
        "*Comment the results of the previous program* "
      ],
      "metadata": {
        "id": "9Ka7eydBHJqR"
      }
    },
    {
      "cell_type": "markdown",
      "source": [
        "9) Build 2D plots of dependences between each pair of the variables."
      ],
      "metadata": {
        "id": "qGXfdoflG7MZ"
      }
    },
    {
      "cell_type": "code",
      "source": [
        "#Write your code here "
      ],
      "metadata": {
        "id": "slB9ZjpkHFPE"
      },
      "execution_count": null,
      "outputs": []
    },
    {
      "cell_type": "markdown",
      "source": [
        "*Comment the results of the previous program* "
      ],
      "metadata": {
        "id": "gBCsuTgIHL4x"
      }
    },
    {
      "cell_type": "markdown",
      "source": [
        "# **`Task 2 “Data Analysis” (7 Scores)`**"
      ],
      "metadata": {
        "id": "KW0KVUE_IX1v"
      }
    },
    {
      "cell_type": "markdown",
      "source": [
        "Compare 4 ML methods: \n",
        "\n",
        "*   Logistic regression\n",
        "*   Decision tree classification\n",
        "*   KNN: k nearest neighbours classification\n",
        "*   Support vector machine (SVM) classification\n",
        "\n"
      ],
      "metadata": {
        "id": "--Xjd9poImkA"
      }
    },
    {
      "cell_type": "markdown",
      "source": [
        "1) Scale your whole dataset. Try different scalings for your dataset. (Standard Scaler, MinMax Scaler). Experiment with Standard Scaler first."
      ],
      "metadata": {
        "id": "R_JD80yQJQW0"
      }
    },
    {
      "cell_type": "code",
      "source": [
        "#Write your code here. "
      ],
      "metadata": {
        "id": "sdkyabziJqXa"
      },
      "execution_count": null,
      "outputs": []
    },
    {
      "cell_type": "markdown",
      "source": [
        "2) Divide your dataset into 2 parts: training set and testing set (90:10). Use defined random_state to reproduce the splitting for other Scaler. Output the dimension of the resulting datasets."
      ],
      "metadata": {
        "id": "VydfI3WvJ1jB"
      }
    },
    {
      "cell_type": "code",
      "source": [
        "#Write your code here "
      ],
      "metadata": {
        "id": "3x45WtPZJ0Yw"
      },
      "execution_count": null,
      "outputs": []
    },
    {
      "cell_type": "markdown",
      "source": [
        "3) **Preliminary analysis:** Build 4 models based on 4 mentioned ML methods. For each model: train with training set and output the confusion matrix of the model using training set. Calculate accuracy, precision, recall, F1 metrics over training set. Is precision or recall more important for description of your data? Build the ROC_AUC curve. Test your models with a testset and output the confusion matrix. Compare the same performance metrics calculated inside one model for training and testing sets."
      ],
      "metadata": {
        "id": "_ajWgGHZKHbO"
      }
    },
    {
      "cell_type": "markdown",
      "source": [
        "**Linear logistic regression**"
      ],
      "metadata": {
        "id": "RlRWsfVwKn6Z"
      }
    },
    {
      "cell_type": "code",
      "source": [
        "#Write your code here "
      ],
      "metadata": {
        "id": "_Ht379UjK7-1"
      },
      "execution_count": null,
      "outputs": []
    },
    {
      "cell_type": "markdown",
      "source": [
        "*Comment the results of the previous program*. *Compare the results of the same characteristics for training and test sets. Make conclusions.*"
      ],
      "metadata": {
        "id": "-6dN0DLsK_RA"
      }
    },
    {
      "cell_type": "markdown",
      "source": [
        "**Decision tree classification**"
      ],
      "metadata": {
        "id": "UREbLoK0K3MX"
      }
    },
    {
      "cell_type": "code",
      "source": [
        "#Write your code here "
      ],
      "metadata": {
        "id": "NlCnQVVfK88o"
      },
      "execution_count": null,
      "outputs": []
    },
    {
      "cell_type": "markdown",
      "source": [
        "*Comment the results of the previous program*. *Compare the results of the same characteristics for training and test sets. Make conclusions.*"
      ],
      "metadata": {
        "id": "4_cc2WoDLtrx"
      }
    },
    {
      "cell_type": "markdown",
      "source": [
        "**kNN: k nearest neighbours classification**"
      ],
      "metadata": {
        "id": "h54XKQc-LZZD"
      }
    },
    {
      "cell_type": "code",
      "source": [
        "#Write your code here "
      ],
      "metadata": {
        "id": "KQRwXmmZLg4t"
      },
      "execution_count": null,
      "outputs": []
    },
    {
      "cell_type": "markdown",
      "source": [
        "*Comment the results of the previous program*. *Compare the results of the same characteristics for training and test sets. Make conclusions.*"
      ],
      "metadata": {
        "id": "8D4RauySLvDN"
      }
    },
    {
      "cell_type": "markdown",
      "source": [
        "**Support vector machine**"
      ],
      "metadata": {
        "id": "W5WYBadQLc8k"
      }
    },
    {
      "cell_type": "code",
      "source": [
        "#Write your code here "
      ],
      "metadata": {
        "id": "lgT9UDYPLhqg"
      },
      "execution_count": null,
      "outputs": []
    },
    {
      "cell_type": "markdown",
      "source": [
        "*Comment the results of the previous program*. *Compare the results of the same characteristics for training and test sets. Make conclusions.*"
      ],
      "metadata": {
        "id": "gjX_Zot0LwLr"
      }
    },
    {
      "cell_type": "markdown",
      "source": [
        "4) Re-calculate the results of Task 2 (use the same random_state as for Standard Scaler by splitting) with MinMaxScaler and compare the results based on metric accuracy. Use the Scaler, which gives the best results for the next Tasks."
      ],
      "metadata": {
        "id": "0JTvhXLreVW6"
      }
    },
    {
      "cell_type": "code",
      "source": [
        "#Write your code here"
      ],
      "metadata": {
        "id": "e0aAohQ9en3e"
      },
      "execution_count": null,
      "outputs": []
    },
    {
      "cell_type": "markdown",
      "source": [
        "*Comment the results of the previous program.*"
      ],
      "metadata": {
        "id": "sedyXSKqqb-p"
      }
    },
    {
      "cell_type": "markdown",
      "source": [
        "# **`Task 3 “Cross validation” (10 Scores)`**"
      ],
      "metadata": {
        "id": "EM0DBYdbdxrW"
      }
    },
    {
      "cell_type": "markdown",
      "source": [
        "1)\tMake 5 fold cross validation, dividing your combined (training + validation sets) into 5 folds in different combinations manually with the function train_test_split() and  without using such functions as: cross_val_score(), cross_validation(), GridSearchCV(). Execute a cycle for each fold running all four models inside.\n",
        "\n",
        "2) Find the average values for each metric for each model based on the validation set. \n",
        "\n",
        "3) Try different values for the hyperparameters (see corresponding lecture slides) for each model and re-run the steps 1-2. Make conclusions about the best model and best parameters, based on each metrics and based on the majority of the metrics. \n",
        "\n"
      ],
      "metadata": {
        "id": "81vsX-Z6eCGe"
      }
    },
    {
      "cell_type": "code",
      "source": [
        "#Write your code here"
      ],
      "metadata": {
        "id": "Txo_t7h7h9LY"
      },
      "execution_count": null,
      "outputs": []
    },
    {
      "cell_type": "markdown",
      "source": [
        "*Show the results of 3 runs of each model with different hyperparameters each.*"
      ],
      "metadata": {
        "id": "bx_w1A1emXbD"
      }
    },
    {
      "cell_type": "markdown",
      "source": [
        "4)\t**Final evaluation.** Evaluate your model using a test set (remains the same from the previous task) based on all metrics. Take the best hyperparameters of the models from the cross validation step and train the model with the complete training set (training set + validation set). Compare the results obtained on the validation set. Make the conclusions about the results."
      ],
      "metadata": {
        "id": "s8XEAuWTiAfb"
      }
    },
    {
      "cell_type": "code",
      "source": [
        "# Write your code here"
      ],
      "metadata": {
        "id": "kgD20IZek1TZ"
      },
      "execution_count": null,
      "outputs": []
    },
    {
      "cell_type": "markdown",
      "source": [
        "# **`Task 4 “Use automatic cross validation ” (10 Scores)`**"
      ],
      "metadata": {
        "id": "fz4NDboGm6zD"
      }
    },
    {
      "cell_type": "markdown",
      "source": [
        "1) Use the functions cross_val_score() or cross_validation() for automation of the manually performed process in Task 3. Use the best hyperparameter values for each model found at the previous step."
      ],
      "metadata": {
        "id": "zb8x6aklnDoB"
      }
    },
    {
      "cell_type": "code",
      "source": [
        "#Write your code here for Logistic regression"
      ],
      "metadata": {
        "id": "QJ5pmxBinZB0"
      },
      "execution_count": null,
      "outputs": []
    },
    {
      "cell_type": "code",
      "source": [
        "#Write your code here for Decision tree classification"
      ],
      "metadata": {
        "id": "APX6cTl1s4z0"
      },
      "execution_count": null,
      "outputs": []
    },
    {
      "cell_type": "code",
      "source": [
        "#Write your code here for #kNN: k nearest neighbours classification"
      ],
      "metadata": {
        "id": "U8ugbfT9s6uH"
      },
      "execution_count": null,
      "outputs": []
    },
    {
      "cell_type": "code",
      "source": [
        "#Support vector machine classification"
      ],
      "metadata": {
        "id": "ZyXJt0Z4s8ZJ"
      },
      "execution_count": null,
      "outputs": []
    },
    {
      "cell_type": "markdown",
      "source": [
        "*!! Comment the obtained results here !!*"
      ],
      "metadata": {
        "id": "tbxvVSVxoIj2"
      }
    },
    {
      "cell_type": "markdown",
      "source": [
        "2) Use the function GridSearchCV() to find the best hyperparameters for each ML method."
      ],
      "metadata": {
        "id": "RPxipoKXnjcK"
      }
    },
    {
      "cell_type": "code",
      "source": [
        "#Write your code here for Logistic regression"
      ],
      "metadata": {
        "id": "ys_zIf8lMvPy"
      },
      "execution_count": null,
      "outputs": []
    },
    {
      "cell_type": "code",
      "source": [
        "#Write your code here for Decision tree classification"
      ],
      "metadata": {
        "id": "IWehsVq-saij"
      },
      "execution_count": null,
      "outputs": []
    },
    {
      "cell_type": "code",
      "source": [
        "#Write your code here for #kNN: k nearest neighbours classification"
      ],
      "metadata": {
        "id": "4_tJQLpNsfay"
      },
      "execution_count": null,
      "outputs": []
    },
    {
      "cell_type": "code",
      "source": [
        "#Write your code here for Support vector machine classification"
      ],
      "metadata": {
        "id": "zjsDnESosiqm"
      },
      "execution_count": null,
      "outputs": []
    },
    {
      "cell_type": "markdown",
      "source": [
        "*!! Comment the obtained results here !!*"
      ],
      "metadata": {
        "id": "etYur7SzoPH3"
      }
    },
    {
      "cell_type": "markdown",
      "source": [
        "3) Evaluate the found models and parameters with the test dataset. Compare the results of Tasks 3 and Task4. Make conclusion about the results."
      ],
      "metadata": {
        "id": "p72d9jPXn0yj"
      }
    },
    {
      "cell_type": "code",
      "source": [
        "#Write your code here Logistic regression"
      ],
      "metadata": {
        "id": "AJ29Tp-ln8nT"
      },
      "execution_count": null,
      "outputs": []
    },
    {
      "cell_type": "code",
      "source": [
        "#Write your code here for Decision tree classification"
      ],
      "metadata": {
        "id": "L0GilH0ZtVm8"
      },
      "execution_count": null,
      "outputs": []
    },
    {
      "cell_type": "code",
      "source": [
        "#Write your code here for #kNN: k nearest neighbours classification"
      ],
      "metadata": {
        "id": "ppr6GJjQtXOk"
      },
      "execution_count": null,
      "outputs": []
    },
    {
      "cell_type": "code",
      "source": [
        "#Write your code here for Support vector machine classification"
      ],
      "metadata": {
        "id": "oeUw9bg6tYoV"
      },
      "execution_count": null,
      "outputs": []
    },
    {
      "cell_type": "markdown",
      "source": [
        "*!! Comment the obtained results here !!*"
      ],
      "metadata": {
        "id": "YRDqhTJ7oQuC"
      }
    },
    {
      "cell_type": "markdown",
      "source": [
        "4) Output residuals/outliers (wrongly classified observations) for each model. Are there any observation, which were wrongly classified by all models?  "
      ],
      "metadata": {
        "id": "LZhSAP7FMp10"
      }
    },
    {
      "cell_type": "code",
      "source": [
        "#Write your code here to output the outliers for all four models as a DataFrame."
      ],
      "metadata": {
        "id": "1Jplr_vgnx-W"
      },
      "execution_count": null,
      "outputs": []
    },
    {
      "cell_type": "markdown",
      "source": [
        "5) Try to exclude these observations (1-3 observations) and rebuild the models. Compare the accuracy result before and after removing of outliers (use cross_validation() function) andrun all 4 models with the reduced dataset without outliers once more. "
      ],
      "metadata": {
        "id": "BFBhek5PMw28"
      }
    },
    {
      "cell_type": "code",
      "source": [
        "#Write your code here for #Logistic model after removing of outliers"
      ],
      "metadata": {
        "id": "zbQdDE1ddQJM"
      },
      "execution_count": null,
      "outputs": []
    },
    {
      "cell_type": "code",
      "source": [
        "#Write your code here for Decision tree classification after removing of outliers"
      ],
      "metadata": {
        "id": "bjlkCYQ2dQV6"
      },
      "execution_count": null,
      "outputs": []
    },
    {
      "cell_type": "code",
      "source": [
        "#Write your code here for kNN: k nearest neighbours classification after removing of outliers"
      ],
      "metadata": {
        "id": "2hk-lqFCdQhk"
      },
      "execution_count": null,
      "outputs": []
    },
    {
      "cell_type": "code",
      "source": [
        "#Write your code here for Support vector machine classification after removing of outliers"
      ],
      "metadata": {
        "id": "oTaei7H2dQrs"
      },
      "execution_count": null,
      "outputs": []
    },
    {
      "cell_type": "markdown",
      "source": [
        "!! Make conclusions as a Text field !!"
      ],
      "metadata": {
        "id": "xxoNlN9qdaW-"
      }
    }
  ]
}